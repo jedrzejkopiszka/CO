{
 "cells": [
  {
   "cell_type": "code",
   "execution_count": 1,
   "metadata": {
    "pycharm": {
     "name": "#%%\n"
    }
   },
   "outputs": [],
   "source": [
    "import numpy as np\n",
    "import signal\n",
    "import time\n",
    "import os\n",
    "from tqdm import tqdm"
   ]
  },
  {
   "cell_type": "markdown",
   "metadata": {},
   "source": [
    "Define book object:\n"
   ]
  },
  {
   "cell_type": "code",
   "execution_count": 2,
   "metadata": {
    "pycharm": {
     "name": "#%%\n"
    }
   },
   "outputs": [],
   "source": [
    "class Book:\n",
    "    def __init__(self, type, points):\n",
    "        self.book_id = type         # There are B different books with IDs from 0 to B–1\n",
    "        self.score = points         # the score that is awarded when the book is scanned.\n",
    "\n",
    "    def __str__(self):\n",
    "        return \"\\nBook ID: %d \\n \" \\\n",
    "               \"Book score: %d \\n\"  % \\\n",
    "               (self.book_id, self.score)\n",
    "\n",
    "    def __eq__(self, other):\n",
    "        if not other:\n",
    "            return False\n",
    "        return self.book_id == other.book_id\n",
    "\n",
    "    def __hash__(self):\n",
    "        return hash((self.book_id,self.score))"
   ]
  },
  {
   "cell_type": "markdown",
   "metadata": {},
   "source": [
    "Define Library object:"
   ]
  },
  {
   "cell_type": "code",
   "execution_count": 3,
   "metadata": {
    "pycharm": {
     "name": "#%%\n"
    }
   },
   "outputs": [],
   "source": [
    "class Library:\n",
    "    def __init__(self, type, books, time, number):\n",
    "        self.library_id = type                  # There are L different libraries with IDs from 0 to L–1.\n",
    "        self.set_of_books = books               # the set of books in the library,\n",
    "        self.sign_up_time = time                # the time in days that it takes to sign the library up for scanning,\n",
    "        self.books_per_day = number             # the number of books that can be scanned each day from the library once the library is signed up\n",
    "        self.num_of_books = len(self.set_of_books)\n",
    "\n",
    "    def __str__(self):\n",
    "        return \"Library ID: %d\\n \" \\\n",
    "               \"List of books: %s\\n \" \\\n",
    "               \"Time to sign up: %d\\n \" \\\n",
    "               \"Books per day: %d\" % \\\n",
    "               (self.library_id,\n",
    "                ''.join(str(i) for i in self.set_of_books),\n",
    "                self.sign_up_time,\n",
    "                self.books_per_day)"
   ]
  },
  {
   "cell_type": "markdown",
   "metadata": {},
   "source": [
    "Read file function:"
   ]
  },
  {
   "cell_type": "code",
   "execution_count": 4,
   "metadata": {
    "pycharm": {
     "name": "#%%\n"
    }
   },
   "outputs": [],
   "source": [
    "def read_from_file(file_name):\n",
    "\n",
    "    file = open(file_name, 'r').readlines()\n",
    "\n",
    "    num_of_books, num_of_libraries, max_time = map(int, file[0].split())\n",
    "    scores_of_books = list(map(int, file[1].split()))\n",
    "    libraries = []\n",
    "\n",
    "    for line in range(1,len(file)//2):\n",
    "        num_of_books_in_lib, sign_up_time, books_per_day = map(int, file[line*2].split())\n",
    "        books_in_library = set(map(int, file[line*2+1].split()))\n",
    "\n",
    "        books_in_lib = [Book(idx,scores_of_books[idx]) for idx in books_in_library]\n",
    "        libraries.append(Library(line, books_in_lib, sign_up_time, books_per_day))\n",
    "\n",
    "    return libraries,num_of_books, num_of_libraries, max_time\n"
   ]
  },
  {
   "cell_type": "markdown",
   "metadata": {},
   "source": [
    "Get best books from library:"
   ]
  },
  {
   "cell_type": "code",
   "execution_count": 5,
   "metadata": {
    "pycharm": {
     "name": "#%%\n"
    }
   },
   "outputs": [],
   "source": [
    "def best_books(lib, day,SCANED_BOOKS):\n",
    "    time = MAX_TIME - lib.sign_up_time - day\n",
    "    sorted_books = sorted([book for book in lib.set_of_books if book not in SCANED_BOOKS], key=lambda x:x.score, reverse=True)\n",
    "\n",
    "    return list(sorted_books)[:time*lib.books_per_day]"
   ]
  },
  {
   "cell_type": "markdown",
   "metadata": {},
   "source": [
    "Count score from best books:\n"
   ]
  },
  {
   "cell_type": "code",
   "execution_count": 6,
   "metadata": {
    "pycharm": {
     "name": "#%%\n"
    }
   },
   "outputs": [],
   "source": [
    "def count_score(lib, day,SCANED_BOOKS,USED_LIBS):\n",
    "    if lib in USED_LIBS:\n",
    "        return float('-inf')\n",
    "\n",
    "    new_books = best_books(lib,day,SCANED_BOOKS)\n",
    "\n",
    "    score = sum(book.score for book in new_books)\n",
    "    return score/lib.sign_up_time"
   ]
  },
  {
   "cell_type": "markdown",
   "metadata": {},
   "source": [
    "Main solving code:"
   ]
  },
  {
   "cell_type": "code",
   "execution_count": 7,
   "metadata": {
    "pycharm": {
     "name": "#%%\n"
    }
   },
   "outputs": [],
   "source": [
    "def solve(SCANED_BOOKS,USED_LIBS):\n",
    "    day = 0\n",
    "    for library in tqdm(range(NUM_OF_LIBS)):\n",
    "        scores = [count_score(lib,day,SCANED_BOOKS,USED_LIBS) for lib in LIBRARIES]\n",
    "        best_lib = np.argmax(scores)\n",
    "\n",
    "        if LIBRARIES[best_lib] in USED_LIBS:\n",
    "            break\n",
    "\n",
    "        new_best_books = best_books(LIBRARIES[best_lib],day,SCANED_BOOKS)\n",
    "\n",
    "        day += LIBRARIES[best_lib].sign_up_time\n",
    "        if day >= MAX_TIME:\n",
    "            break\n",
    "\n",
    "        SCANED_BOOKS = SCANED_BOOKS.union(set(new_best_books))\n",
    "        USED_LIBS.add(LIBRARIES[best_lib])\n",
    "\n",
    "    result = 0\n",
    "    for book in SCANED_BOOKS:\n",
    "        result += book.score\n",
    "    return result"
   ]
  },
  {
   "cell_type": "code",
   "execution_count": 8,
   "metadata": {
    "pycharm": {
     "name": "#%%\n"
    }
   },
   "outputs": [
    {
     "ename": "AttributeError",
     "evalue": "module 'signal' has no attribute 'SIGALRM'",
     "output_type": "error",
     "traceback": [
      "\u001b[1;31m---------------------------------------------------------------------------\u001b[0m",
      "\u001b[1;31mAttributeError\u001b[0m                            Traceback (most recent call last)",
      "\u001b[1;32m<ipython-input-8-de45a0006b03>\u001b[0m in \u001b[0;36m<module>\u001b[1;34m\u001b[0m\n\u001b[0;32m      5\u001b[0m     \u001b[1;32mraise\u001b[0m \u001b[0mTimeoutException\u001b[0m\u001b[1;33m\u001b[0m\u001b[1;33m\u001b[0m\u001b[0m\n\u001b[0;32m      6\u001b[0m \u001b[1;33m\u001b[0m\u001b[0m\n\u001b[1;32m----> 7\u001b[1;33m \u001b[0mHandler\u001b[0m \u001b[1;33m=\u001b[0m \u001b[0msignal\u001b[0m\u001b[1;33m.\u001b[0m\u001b[0msignal\u001b[0m\u001b[1;33m(\u001b[0m\u001b[0msignal\u001b[0m\u001b[1;33m.\u001b[0m\u001b[0mSIGALRM\u001b[0m\u001b[1;33m,\u001b[0m\u001b[0mtimeout_handler\u001b[0m\u001b[1;33m)\u001b[0m\u001b[1;33m\u001b[0m\u001b[1;33m\u001b[0m\u001b[0m\n\u001b[0m",
      "\u001b[1;31mAttributeError\u001b[0m: module 'signal' has no attribute 'SIGALRM'"
     ]
    }
   ],
   "source": [
    "class TimeoutException(Exception):\n",
    "    pass\n",
    "\n",
    "def timeout_handler(signum,frame):\n",
    "    raise TimeoutException\n",
    "\n",
    "Handler = signal.signal(signal.SIGALRM,timeout_handler)"
   ]
  },
  {
   "cell_type": "code",
   "execution_count": 156,
   "metadata": {
    "pycharm": {
     "name": "#%%\n"
    }
   },
   "outputs": [
    {
     "name": "stderr",
     "output_type": "stream",
     "text": [
      "100%|██████████| 2/2 [00:00<00:00, 4725.98it/s]\n",
      " 13%|█▎        | 1284/10000 [01:56<13:11, 11.01it/s]\n",
      " 15%|█▍        | 148/1000 [00:33<03:13,  4.41it/s]\n",
      "  7%|▋         | 2045/30000 [04:59<1:08:20,  6.82it/s]\n",
      " 90%|█████████ | 90/100 [00:02<00:00, 42.62it/s]\n",
      "  2%|▏         | 16/1000 [00:04<05:04,  3.24it/s]\n"
     ]
    },
    {
     "name": "stdout",
     "output_type": "stream",
     "text": [
      "Dataset: a_example.txt\n",
      "The result achieved: 21 in: 0.0034s\n",
      "Dataset: c_incunabula.txt\n",
      "The result achieved: 5689822 in: 116.593s\n",
      "Dataset: e_so_many_books.txt\n",
      "The result achieved: 5026488 in: 33.608s\n",
      "Dataset: d_tough_choices.txt\n",
      "Timeout\n",
      "Dataset: b_read_on.txt\n",
      "The result achieved: 5822900 in: 2.128s\n",
      "Dataset: f_libraries_of_the_world.txt\n",
      "The result achieved: 5216624 in: 4.9494s\n"
     ]
    }
   ],
   "source": [
    "for file in os.listdir('.'):\n",
    "    if not file.endswith('.txt'):\n",
    "\t    continue\n",
    "    LIBRARIES,NUM_OF_BOOKS, NUM_OF_LIBS, MAX_TIME = read_from_file(file)\n",
    "    signal.alarm(300)\n",
    "    try:\n",
    "        start = time.time()\n",
    "        result = solve(set(),set())\n",
    "        ti = time.time() - start\n",
    "        print(\"Dataset: {}\\nThe result achieved: {} in: {}s\".format(file,result,round(ti,4)))\n",
    "    except TimeoutException:\n",
    "        print(\"Dataset: {}\\nTimeout\".format(file))\n",
    "    signal.alarm(0)\n",
    "    signal.signal(signal.SIGALRM,Handler)"
   ]
  },
  {
   "cell_type": "code",
   "execution_count": 156,
   "metadata": {
    "pycharm": {
     "name": "#%%\n"
    }
   },
   "outputs": [],
   "source": []
  }
 ],
 "metadata": {
  "kernelspec": {
   "display_name": "Python 3",
   "language": "python",
   "name": "python3"
  },
  "language_info": {
   "codemirror_mode": {
    "name": "ipython",
    "version": 3
   },
   "file_extension": ".py",
   "mimetype": "text/x-python",
   "name": "python",
   "nbconvert_exporter": "python",
   "pygments_lexer": "ipython3",
   "version": "3.7.3"
  }
 },
 "nbformat": 4,
 "nbformat_minor": 1
}
